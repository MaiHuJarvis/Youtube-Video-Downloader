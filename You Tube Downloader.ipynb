{
 "cells": [
  {
   "cell_type": "markdown",
   "metadata": {},
   "source": [
    "# YouTube Video Downloader\n",
    "\n",
    "limitations:-\n",
    "\n",
    "1.It cannot download the music videos.\n",
    "2.You Cannot Select the Quality best quality is automatically selected."
   ]
  },
  {
   "cell_type": "code",
   "execution_count": 20,
   "metadata": {},
   "outputs": [],
   "source": [
    "import bs4\n",
    "import urllib.request\n",
    "import requests\n",
    "from bs4 import BeautifulSoup\n",
    "import os"
   ]
  },
  {
   "cell_type": "code",
   "execution_count": 21,
   "metadata": {},
   "outputs": [
    {
     "name": "stdout",
     "output_type": "stream",
     "text": [
      "Enter Playlist or Youtube URLhttps://www.youtube.com/playlist?list=PLnQtIQv1PaSFBM4vnJOx98ogLxIKKB8Zo\n"
     ]
    }
   ],
   "source": [
    "playlist_url=input(\"Enter Playlist or Youtube URL\")\n",
    "\n",
    "#this set will contain all the links of the video that we have to download\n",
    "video_links = set()\n",
    "\n",
    "if \"/watch?v\" in playlist_url:\n",
    "    video_links.add(playlist_url)\n",
    "    \n",
    "else:\n",
    "    \n",
    "    requested_page=requests.get(playlist_url)\n",
    "    soup = BeautifulSoup(requested_page.text,'html.parser')\n",
    "    \n",
    "    #Videos informations are stored in one of the script tag by the youtube\n",
    "    for each_link in soup.find_all('script'):\n",
    "        if \"\"\"window[\"ytInitialData\"]\"\"\" in str(each_link):\n",
    "            data_dict = str(each_link)[str(each_link).rfind(\"\"\"window[\"ytInitialData\"]\"\"\")+len(\"\"\"window[\"ytInitialData\"] =\"\"\"):str(each_link).rfind(\"\"\"window[\"ytInitialPlayerResponse\"] = null;\"\"\")]\n",
    "            data=data_dict.split(\"url\")\n",
    "            break\n",
    "            \n",
    "    for e in data:\n",
    "        if \"/watch?v\" in e:\n",
    "            video_id = e[e.rfind(\"/watch?v=\")+9:e.rfind(\"/watch?v=\")+20]\n",
    "            video_links.add(f\"https://www.youtube.com/watch?v={video_id}\")"
   ]
  },
  {
   "cell_type": "code",
   "execution_count": 22,
   "metadata": {},
   "outputs": [
    {
     "name": "stdout",
     "output_type": "stream",
     "text": [
      "Total_videos =4\n",
      "https://www.youtube.com/watch?v=XhydAiCgToA\n",
      "https://www.youtube.com/watch?v=vnjvdPGscYg\n",
      "https://www.youtube.com/watch?v=9f069mP_RD4\n",
      "https://www.youtube.com/watch?v=Bw9Nc6VOJS8\n"
     ]
    }
   ],
   "source": [
    "#total videos and their links\n",
    "print(f\"Total_videos ={len(video_links)}\")\n",
    "for each_link in video_links:\n",
    "    print(each_link)"
   ]
  },
  {
   "cell_type": "code",
   "execution_count": 23,
   "metadata": {
    "scrolled": true
   },
   "outputs": [
    {
     "name": "stdout",
     "output_type": "stream",
     "text": [
      "\n",
      "Finding the url of Video=1\n",
      "\n",
      "video title=Project Show-case 3 || Hotel Room Booking System using Django&dl=1\n",
      "https://r2---sn-a5msen7s.googlevideo.com/videoplayback?expire=1598136351&ei=v0tBX7OmN5LzkgaX2r9Q&ip=148.163.85.230&id=o-AGpWHCmjPiuiDKOzW5qLGLa9VLUMwTaJTybVzIQp9OJG&itag=22&source=youtube&requiressl=yes&mh=tv&mm=31%2C26&mn=sn-a5msen7s%2Csn-n4v7sne7&ms=au%2Conr&mv=m&mvi=2&pl=20&initcwndbps=8656250&vprv=1&mime=video%2Fmp4&ratebypass=yes&dur=380.296&lmt=1596910417112450&mt=1598114553&fvip=2&c=WEB&txp=6216222&sparams=expire%2Cei%2Cip%2Cid%2Citag%2Csource%2Crequiressl%2Cvprv%2Cmime%2Cratebypass%2Cdur%2Clmt&sig=AOq0QJ8wRQIgCyvPr-n1LuZyGHD8KxW72dfPgRnT7kgneYG_dIP6QA0CIQCCh4ej1eNqNWBh8L-hLSyjwsNsjtpZ47dOMO8kax6b4Q%3D%3D&lsparams=mh%2Cmm%2Cmn%2Cms%2Cmv%2Cmvi%2Cpl%2Cinitcwndbps&lsig=AG3C_xAwRgIhALqmJQAfO78C65LKAzrqWgRHKGAsFkM8GT1txnA_eXCqAiEAoaC3gJQfWZxsdZqG87aVZOxRC8s0AgOVINHg8ar2JyA%3D&title=Project+Show-case+3+||+Hotel+Room+Booking+System+using+Django&dl=1\n",
      " Downloading video=1\n",
      "\n",
      "\n",
      "\n",
      "Downloading of Video1 is complete\n",
      " \n",
      "\n",
      "Finding the url of Video=2\n",
      "\n",
      "video title=Project Show-case 2 || Gender classification using Deep learning&dl=1\n",
      "https://r4---sn-a5meknlz.googlevideo.com/videoplayback?expire=1598136390&ei=5ktBX92qIJCEkgbHhLugBA&ip=192.110.160.12&id=o-ANDSP3FwzRh0sGn35VAhlVgZ-TTUjvXNIwj0pRrTMLtR&itag=22&source=youtube&requiressl=yes&mh=Hd&mm=31%2C29&mn=sn-a5meknlz%2Csn-a5msen76&ms=au%2Crdu&mv=u&mvi=4&pl=21&vprv=1&mime=video%2Fmp4&ratebypass=yes&dur=266.100&lmt=1596012167130531&mt=1598114651&fvip=4&c=WEB&txp=6216222&sparams=expire%2Cei%2Cip%2Cid%2Citag%2Csource%2Crequiressl%2Cvprv%2Cmime%2Cratebypass%2Cdur%2Clmt&sig=AOq0QJ8wRQIhAN_BRK7ig5Yy1Az1-15Iqrag70MC-boAicjob-GegOnbAiAoBchG7SDovISATMoOq_uYS4yjWDMWwZ7zC4Ccg805JA%3D%3D&lsparams=mh%2Cmm%2Cmn%2Cms%2Cmv%2Cmvi%2Cpl&lsig=AG3C_xAwRgIhAILZvmu9baQw9CN7WnLM-S4NmJ4sPGIP89awhBjQX6HxAiEA02TgARAY7znLpW5TZKpp9AGTZZitnBdFYEhVfrVcurQ%3D&title=Project+Show-case+2+||+Gender+classification+using+Deep+learning&dl=1\n",
      " Downloading video=2\n",
      "\n",
      "\n",
      "\n",
      "Downloading of Video2 is complete\n",
      " \n",
      "\n",
      "Finding the url of Video=3\n",
      "\n",
      "video title=Project Show-Case 1 || Voice Assistant using Python&dl=1\n",
      "https://r5---sn-5uaeznk7.googlevideo.com/videoplayback?expire=1598136454&ei=JkxBX8HWKdORkAPsrJCwBA&ip=104.153.82.5&id=o-AOVg454J1rhjkgGreQUIpHsR_Iqv1FoUdebqC4wC7rkf&itag=22&source=youtube&requiressl=yes&mh=M8&mm=31%2C26&mn=sn-5uaeznk7%2Csn-p5qlsnd6&ms=au%2Conr&mv=m&mvi=5&pl=22&pcm2=no&initcwndbps=1753750&vprv=1&mime=video%2Fmp4&ratebypass=yes&dur=156.316&lmt=1596006105321275&mt=1598114681&fvip=5&c=WEB&txp=6216222&sparams=expire%2Cei%2Cip%2Cid%2Citag%2Csource%2Crequiressl%2Cpcm2%2Cvprv%2Cmime%2Cratebypass%2Cdur%2Clmt&sig=AOq0QJ8wRQIhANWAKfLI9asfQrFDt_GWzsz2_xndb9ty5uHo2WvjP-IvAiBji7QhUs6MIZR84tZgFZ-AyoX0WPFLmO4mSnAa3xyOUg%3D%3D&lsparams=mh%2Cmm%2Cmn%2Cms%2Cmv%2Cmvi%2Cpl%2Cinitcwndbps&lsig=AG3C_xAwRQIhAMFuLposE5LP1ggmJ3EimkV3M9LQtS-lhglyhjrqIdvdAiAA-WzhQTmLUF6zvF98Y0EVZqzrpAOVIZvk1hU2cy1KAA%3D%3D&title=Project+Show-Case+1+||+Voice+Assistant+using+Python&dl=1\n",
      " Downloading video=3\n",
      "\n",
      "\n",
      "\n",
      "Downloading of Video3 is complete\n",
      " \n",
      "\n",
      "Finding the url of Video=4\n",
      "\n",
      "video title=Project Show-Case 4 || Amazon Search Result Scraper in Json Format using Python&dl=1\n",
      "https://r1---sn-a5meknle.googlevideo.com/videoplayback?expire=1598136484&ei=RExBX7CqG47IkgbQ55Rw&ip=107.167.94.251&id=o-AIdFReVY13rKfDcmS3XIhPLnGabPsTWuRmaMqk-mHnGt&itag=22&source=youtube&requiressl=yes&mh=n7&mm=31%2C29&mn=sn-a5meknle%2Csn-a5mlrn76&ms=au%2Crdu&mv=m&mvi=1&pl=19&initcwndbps=4893750&vprv=1&mime=video%2Fmp4&ratebypass=yes&dur=147.168&lmt=1597467954331841&mt=1598114804&fvip=1&c=WEB&txp=2216222&sparams=expire%2Cei%2Cip%2Cid%2Citag%2Csource%2Crequiressl%2Cvprv%2Cmime%2Cratebypass%2Cdur%2Clmt&sig=AOq0QJ8wRQIgBdKsKag2mg2IDeQGL7jr2dsw9-MeLdfbUMBP0IpJsTECIQDVCjfpk5ZfSKGmlO4UaUnOUKuvRMSGOTAApufPNa13Ow%3D%3D&lsparams=mh%2Cmm%2Cmn%2Cms%2Cmv%2Cmvi%2Cpl%2Cinitcwndbps&lsig=AG3C_xAwRQIgOEe-ENNJRN1bESnBUSgNulFyiA0K3pZEgQcya2c-PPICIQDlvyfwQ4p7Zp-GntfOn16TJl4uUDK6ug318ygM_j0otw%3D%3D&title=Project+Show-Case+4+||+Amazon+Search+Result+Scraper+in+Json+Format+using+Python&dl=1\n",
      " Downloading video=4\n",
      "\n",
      "\n",
      "\n",
      "Downloading of Video4 is complete\n",
      " \n",
      "All videos are downloaded\n"
     ]
    }
   ],
   "source": [
    "#now we have all the list of the url that we have to download\n",
    "#this is the downloader api in using this we will download the video \n",
    "downloader_api=\"http://www.youtube-video-downloader.xyz/download?video=\" \n",
    "def find_download_url(request_video_page):\n",
    "    soup=bs4.BeautifulSoup(request_video_page.text,\"html.parser\")\n",
    "    for each_tr_tag in soup.find_all('a'):     \n",
    "        video_link=each_tr_tag.get('href')\n",
    "        if str(video_link).find('r')==8:\n",
    "            return str(video_link)\n",
    "        \n",
    "        \n",
    "video_counter=1\n",
    "\n",
    "for each_url in video_links:\n",
    "    request_video_page=requests.get(downloader_api+each_url)\n",
    "    print(f\"\\nFinding the url of Video={ video_counter}\\n\")\n",
    "    mp4_link=find_download_url(request_video_page)\n",
    "    video_title=mp4_link[mp4_link.find('title'):]\n",
    "    video_title=video_title[6:].replace(\"+\",\" \")\n",
    "    \n",
    "    print(\"video title=\"+video_title)\n",
    "    print(f\"{mp4_link}\")\n",
    "    \n",
    "    try:\n",
    "        print(\" Downloading video=\"+str(video_counter)+\"\\n\")\n",
    "        print(\"\\n\")\n",
    "        \n",
    "        #path where u want to save the videos\n",
    "        #here enter your path\n",
    "        full_path=os.path.join(os.getcwd(),f\"video{video_counter}\"+\".mp4\")\n",
    "        downloading=urllib.request.urlretrieve(str(mp4_link)[:mp4_link.find('&title')+1],full_path)\n",
    "        print(f\"Downloading of Video{video_counter} is complete\\n \")\n",
    "    except Exception as e:\n",
    "        print(e)\n",
    "        input(\"press anything to proceed\")\n",
    "        print(f\"Unable to Download video={video_counter}\")\n",
    "    \n",
    "    video_counter+=1\n",
    "else:\n",
    "    print(\"All videos are downloaded\")"
   ]
  },
  {
   "cell_type": "code",
   "execution_count": null,
   "metadata": {},
   "outputs": [],
   "source": []
  }
 ],
 "metadata": {
  "kernelspec": {
   "display_name": "Python 3",
   "language": "python",
   "name": "python3"
  },
  "language_info": {
   "codemirror_mode": {
    "name": "ipython",
    "version": 3
   },
   "file_extension": ".py",
   "mimetype": "text/x-python",
   "name": "python",
   "nbconvert_exporter": "python",
   "pygments_lexer": "ipython3",
   "version": "3.6.5"
  }
 },
 "nbformat": 4,
 "nbformat_minor": 4
}
