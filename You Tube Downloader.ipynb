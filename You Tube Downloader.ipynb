{
 "cells": [
  {
   "cell_type": "markdown",
   "metadata": {},
   "source": [
    "# YouTube Video Downloader\n",
    "\n",
    "limitations:-\n",
    "\n",
    "1.It cannot download the music videos.\n",
    "2.You Cannot Select the Quality best quality is automatically selected."
   ]
  },
  {
   "cell_type": "code",
   "execution_count": 58,
   "metadata": {},
   "outputs": [],
   "source": [
    "import bs4\n",
    "import urllib.request\n",
    "import requests"
   ]
  },
  {
   "cell_type": "code",
   "execution_count": 59,
   "metadata": {},
   "outputs": [
    {
     "name": "stdout",
     "output_type": "stream",
     "text": [
      "Enter Playlist or Youtube URLhttps://www.youtube.com/playlist?list=PLVBorYCcu-xX3Ppjb_sqBd_Xf6GqagQyl\n",
      "<Response [200]>\n"
     ]
    }
   ],
   "source": [
    "#  video url or playlist url \n",
    "playlist_url=input(\"Enter Playlist or Youtube URL\")\n",
    "requested_page=requests.get(playlist_url)\n",
    "\n",
    "#As our response is 200 that means we have successfully requested the page\n",
    "print(requested_page)"
   ]
  },
  {
   "cell_type": "code",
   "execution_count": 60,
   "metadata": {},
   "outputs": [],
   "source": [
    "#to read the contents of the requested page \n",
    "#1.we will make the soup object\n",
    "soup=bs4.BeautifulSoup(requested_page.text,\"html.parser\")\n",
    "#print(soup.prettify())"
   ]
  },
  {
   "cell_type": "code",
   "execution_count": 62,
   "metadata": {
    "scrolled": true
   },
   "outputs": [
    {
     "name": "stdout",
     "output_type": "stream",
     "text": [
      "Total Videos in the Playlist are  10\n",
      "https://www.youtube.com/watch?v=edIMMTL2jlw&list=PLVBorYCcu-xX3Ppjb_sqBd_Xf6GqagQyl&index=2&t=0s\n",
      "https://www.youtube.com/watch?v=IeLrFNc5HqY&list=PLVBorYCcu-xX3Ppjb_sqBd_Xf6GqagQyl&index=3&t=0s\n",
      "https://www.youtube.com/watch?v=n2MxgXtSMBw&list=PLVBorYCcu-xX3Ppjb_sqBd_Xf6GqagQyl&index=4&t=0s\n",
      "https://www.youtube.com/watch?v=S0XFd0VMFss&list=PLVBorYCcu-xX3Ppjb_sqBd_Xf6GqagQyl&index=5&t=0s\n",
      "https://www.youtube.com/watch?v=iMIWee_PXl8&list=PLVBorYCcu-xX3Ppjb_sqBd_Xf6GqagQyl&index=6&t=0s\n",
      "https://www.youtube.com/watch?v=UqRCEmrv1gQ&list=PLVBorYCcu-xX3Ppjb_sqBd_Xf6GqagQyl&index=7&t=0s\n",
      "https://www.youtube.com/watch?v=Z1VsHYcNXDI&list=PLVBorYCcu-xX3Ppjb_sqBd_Xf6GqagQyl&index=8&t=0s\n",
      "https://www.youtube.com/watch?v=8lG6qRIdSA0&list=PLVBorYCcu-xX3Ppjb_sqBd_Xf6GqagQyl&index=9&t=0s\n",
      "https://www.youtube.com/watch?v=pHOCKe890Qw&list=PLVBorYCcu-xX3Ppjb_sqBd_Xf6GqagQyl&index=10&t=0s\n",
      "https://www.youtube.com/watch?v=9vB5nzrL4hY&list=PLVBorYCcu-xX3Ppjb_sqBd_Xf6GqagQyl&index=11&t=0s\n"
     ]
    }
   ],
   "source": [
    "#now we will extract all the url of that page\n",
    "all_video_url=[]\n",
    "for links in soup.find_all('a'):\n",
    "    links=links.get('href')\n",
    "    if str(links).find('/watch')>=0 and \"https://www.youtube.com\"+str(links) not in all_video_url and str(links).find('index')>=0:\n",
    "        all_video_url.append(\"https://www.youtube.com\"+str(links))\n",
    "\n",
    "else:\n",
    "    if len(all_video_url) is 0:\n",
    "        all_video_url.append(playlist_url)\n",
    "    print(\"Total Videos in the Playlist are \",len(all_video_url))\n",
    "    for e in all_video_url:\n",
    "        print(e)"
   ]
  },
  {
   "cell_type": "code",
   "execution_count": 63,
   "metadata": {
    "collapsed": true
   },
   "outputs": [
    {
     "name": "stdout",
     "output_type": "stream",
     "text": [
      "\n",
      "Finding the url of Video=1.....\n",
      "\n",
      "video title=Deep Learning with Keras and Python  (Course Introduction)\n",
      "https://r2---sn-a5msen7s.googlevideo.com/videoplayback?expire=1585511931&ei=m6mAXqHnCsymkwaYmoHIBQ&ip=199.30.50.89&id=o-AHYYW_bvf_lZdjmQprs115yKNYkeYoHkcqI8XVJfobl9&itag=18&source=youtube&requiressl=yes&mh=zj&mm=31%2C26&mn=sn-a5msen7s%2Csn-n4v7knl6&ms=au%2Conr&mv=m&mvi=1&pl=21&initcwndbps=1492500&vprv=1&mime=video%2Fmp4&gir=yes&clen=2708426&ratebypass=yes&dur=99.869&lmt=1495024479554611&mt=1585490309&fvip=2&c=WEB&sparams=expire%2Cei%2Cip%2Cid%2Citag%2Csource%2Crequiressl%2Cvprv%2Cmime%2Cgir%2Cclen%2Cratebypass%2Cdur%2Clmt&sig=AJpPlLswRQIgKGzkpKICConRB9ICkQ6yGf2TGlKjPgrOrRtoqP4zFbwCIQDXAh_o0iztbsMY2qNybWDLh0iwcTvck6S6TFOD1fkQCQ%3D%3D&lsparams=mh%2Cmm%2Cmn%2Cms%2Cmv%2Cmvi%2Cpl%2Cinitcwndbps&lsig=ALrAebAwRAIgARKq5PSPaMTBju62fo3CYBKeQbkjwXAz2BzUU9WyIGUCIBUsXbQxOGVd2gIcc9JotlKkGXlE0KWEx1q9pFbFKZV7&title=Deep+Learning+with+Keras+and+Python++(Course+Introduction)\n",
      " Downloading video=1\n",
      "\n",
      "\n",
      "\n",
      "Downloading of Video1 is complete\n",
      " \n",
      "\n",
      "Finding the url of Video=2.....\n",
      "\n",
      "video title=What are Convolutional Neural Networks (CNN / Convnets)\n",
      "https://r2---sn-a5m7lnlz.googlevideo.com/videoplayback?expire=1585511936&ei=oKmAXrarH4Wakwaz15rYCQ&ip=148.163.82.3&id=o-AIUG_tBEGnO43JldHGluRbMsjw0PP3SbHmb-s5bb7hz8&itag=22&source=youtube&requiressl=yes&mh=SV&mm=31%2C29&mn=sn-a5m7lnlz%2Csn-a5mekned&ms=au%2Crdu&mv=m&mvi=1&pl=20&initcwndbps=2161250&vprv=1&mime=video%2Fmp4&ratebypass=yes&dur=528.927&lmt=1520963137997445&mt=1585490252&fvip=2&c=WEB&sparams=expire%2Cei%2Cip%2Cid%2Citag%2Csource%2Crequiressl%2Cvprv%2Cmime%2Cratebypass%2Cdur%2Clmt&sig=AJpPlLswRAIgZapKAc8tW8hrUi6-bUco3zclfF28eyBGo8rJ2cGoCxQCIEc2rBJ155KfnejJn4cLR_7McrVH4K3wX6o1EqpJ4jYj&lsparams=mh%2Cmm%2Cmn%2Cms%2Cmv%2Cmvi%2Cpl%2Cinitcwndbps&lsig=ALrAebAwRQIhAOJ3lFlKbq2BEW_YKCEWXTddb9apZQkSrg4h75OB5bVmAiBB3UgeTFRKn7BF1w6IVhTqDsBgsBkA1ljxU6zxUqwppA%3D%3D&title=What+are+Convolutional+Neural+Networks+(CNN+/+Convnets)\n",
      " Downloading video=2\n",
      "\n",
      "\n",
      "\n",
      "Downloading of Video2 is complete\n",
      " \n",
      "\n",
      "Finding the url of Video=3.....\n",
      "\n",
      "video title=Convolutional Neural Networks (CNN) Implementation with Keras - Python\n",
      "https://r5---sn-a5meknzl.googlevideo.com/videoplayback?expire=1585511955&ei=s6mAXtbTIouLkwb8zYDYBw&ip=104.161.41.49&id=o-AO_QACUhKb7VDYP-OHl8Muah1g8ylLZgQj4cy9MafTrd&itag=22&source=youtube&requiressl=yes&mh=T2&mm=31%2C29&mn=sn-a5meknzl%2Csn-a5mlrnes&ms=au%2Crdu&mv=m&mvi=4&pl=24&initcwndbps=2161250&vprv=1&mime=video%2Fmp4&ratebypass=yes&dur=710.600&lmt=1521059601484734&mt=1585490252&fvip=5&beids=9466588&c=WEB&sparams=expire%2Cei%2Cip%2Cid%2Citag%2Csource%2Crequiressl%2Cvprv%2Cmime%2Cratebypass%2Cdur%2Clmt&sig=AJpPlLswRAIgW4vTDgvtqHPz9XlleM6HM5368Lx4tR0w6ENaWbxfpCACIEmvDlAtSkf1KruCLiTdqhunDc54nTSUJ88WlsXtNrB1&lsparams=mh%2Cmm%2Cmn%2Cms%2Cmv%2Cmvi%2Cpl%2Cinitcwndbps&lsig=ALrAebAwRgIhAN9wxXucED8I9vAe4OXOtMLYAiON52YRqPvzbQlZAdqJAiEApJ_avJISA_HnCMCUvjDtyfj-_BmSlvpOIB1TYpSYebs%3D&title=Convolutional+Neural+Networks+(CNN)+Implementation+with+Keras+-+Python\n",
      " Downloading video=3\n",
      "\n",
      "\n",
      "\n",
      "Downloading of Video3 is complete\n",
      " \n",
      "\n",
      "Finding the url of Video=4.....\n",
      "\n",
      "video title=What are Recurrent Neural Networks (RNN) and Long Short Term Memory Networks (LSTM) ?\n",
      "https://r1---sn-vgqsknel.googlevideo.com/videoplayback?expire=1585511985&ei=0amAXqnbAbGJir4P4cyk-Ag&ip=64.187.236.34&id=o-AGjFaISDd3pHFRzDBhRpB4c88wQoi9eF--OFVu_yvx2a&itag=22&source=youtube&requiressl=yes&mh=St&mm=31%2C26&mn=sn-vgqsknel%2Csn-p5qlsnz6&ms=au%2Conr&mv=m&mvi=0&pl=21&initcwndbps=2632500&vprv=1&mime=video%2Fmp4&ratebypass=yes&dur=514.507&lmt=1573447836525378&mt=1585490309&fvip=1&c=WEB&txp=1306222&sparams=expire%2Cei%2Cip%2Cid%2Citag%2Csource%2Crequiressl%2Cvprv%2Cmime%2Cratebypass%2Cdur%2Clmt&sig=ADKhkGMwRgIhALi7da4hjJYg1aTeqtgQm2nFNFEM9YATw68tH1Hq3cjxAiEAzi1Q2vCzmXbPI_571a-JuwwHXWXfJEtJGBCUVLrzgwY%3D&lsparams=mh%2Cmm%2Cmn%2Cms%2Cmv%2Cmvi%2Cpl%2Cinitcwndbps&lsig=ABSNjpQwRQIhANOi-6cDOkmINPVb2u9JAqZK0mcWvcGlCK1s_DZwJzNwAiA6cHQRwvHfJHKnP8BcYLsRuVQzpLphbTU5ll8ZUf9doA%3D%3D&title=What+are+Recurrent+Neural+Networks+(RNN)+and+Long+Short+Term+Memory+Networks+(LSTM)+?\n",
      " Downloading video=4\n",
      "\n",
      "\n",
      "\n",
      "Downloading of Video4 is complete\n",
      " \n",
      "\n",
      "Finding the url of Video=5.....\n",
      "\n",
      "video title=Recurrent Neural Networks (LSTM / RNN) Implementation with Keras - Python\n",
      "https://r2---sn-p5qs7nek.googlevideo.com/videoplayback?expire=1585511998&ei=3qmAXoX6Dei_kASciKiQAg&ip=104.153.82.220&id=o-AOPvnoLd0ur1p31JrVTidAQLHGpuOe3KMvymcbkBWo4-&itag=22&source=youtube&requiressl=yes&mh=Su&mm=31%2C29&mn=sn-p5qs7nek%2Csn-p5qlsnd6&ms=au%2Crdu&mv=m&mvi=1&pl=22&initcwndbps=5072500&vprv=1&mime=video%2Fmp4&ratebypass=yes&dur=595.173&lmt=1554990866616032&mt=1585490309&fvip=2&c=WEB&txp=5432432&sparams=expire%2Cei%2Cip%2Cid%2Citag%2Csource%2Crequiressl%2Cvprv%2Cmime%2Cratebypass%2Cdur%2Clmt&sig=ADKhkGMwRQIgfGw7PThUPsRw74l9o1gZirQ3RLJ_9Pz9j7V2znbLeeUCIQCv15EQiDa02gNjRMijkEdVko5AkRyMXL2BkH-fCEYGEQ%3D%3D&lsparams=mh%2Cmm%2Cmn%2Cms%2Cmv%2Cmvi%2Cpl%2Cinitcwndbps&lsig=ABSNjpQwRQIhAPOxN_ER35c2C-IIBGGkV6AJ5UtUQQz8cgbjFcsE86K3AiA-UHRo7iR52dRxpo-0lXH7c6Rm22eBiOb10-Ns5uTFtQ%3D%3D&title=Recurrent+Neural+Networks+(LSTM+/+RNN)+Implementation+with+Keras+-+Python\n",
      " Downloading video=5\n",
      "\n",
      "\n",
      "\n",
      "[WinError 10054] An existing connection was forcibly closed by the remote host\n",
      "press anything to proceedg\n",
      "Unable to Download video=5\n",
      "\n",
      "Finding the url of Video=6.....\n",
      "\n",
      "video title=Word2Vec - Skipgram and CBOW\n",
      "https://r5---sn-p5qlsndk.googlevideo.com/videoplayback?expire=1585512276&ei=9KqAXtG-B6fn4QSfz7N4&ip=104.153.82.49&id=o-AH0EWeh0e5oGLR3oobULpjXg_2JOw54LXbX8T2WfCL47&itag=22&source=youtube&requiressl=yes&mh=2j&mm=31%2C26&mn=sn-p5qlsndk%2Csn-vgqsknlz&ms=au%2Conr&mv=m&mvi=4&pl=22&initcwndbps=4855000&vprv=1&mime=video%2Fmp4&ratebypass=yes&dur=440.366&lmt=1538511488572381&mt=1585490611&fvip=5&c=WEB&txp=2211222&sparams=expire%2Cei%2Cip%2Cid%2Citag%2Csource%2Crequiressl%2Cvprv%2Cmime%2Cratebypass%2Cdur%2Clmt&sig=ADKhkGMwRQIhAICov_IkceVy_Rnds3BhXEMn3Q6wD94uE-GvPKlbouH9AiBewspVU74Br81Pc6aTK6VtGf-5v6o1Ds6awHAprpOtgA%3D%3D&lsparams=mh%2Cmm%2Cmn%2Cms%2Cmv%2Cmvi%2Cpl%2Cinitcwndbps&lsig=ABSNjpQwRgIhAKmzDKwDQnleNGNt-iCc3ZKudt4EAbqy3279mEfnsOtJAiEAvX3TMWC9hQDHMsm8Loq_g3MDBRMu2YV_0R-UxPNfDmA%3D&title=Word2Vec+-+Skipgram+and+CBOW\n",
      " Downloading video=6\n",
      "\n",
      "\n",
      "\n",
      "Downloading of Video6 is complete\n",
      " \n",
      "\n",
      "Finding the url of Video=7.....\n",
      "\n",
      "video title=Word2Vec with Gensim - Python\n",
      "https://r3---sn-a5mlrn7k.googlevideo.com/videoplayback?expire=1585512294&ei=BauAXriuOoSOkwb-lKygCQ&ip=104.161.47.81&id=o-APffuNuqicfnuyOR9JR3rgHHtzmhUPdPHkLO4w5SKxNI&itag=22&source=youtube&requiressl=yes&mh=ja&mm=31%2C26&mn=sn-a5mlrn7k%2Csn-o097znl6&ms=au%2Conr&mv=m&mvi=2&pl=22&initcwndbps=1671250&vprv=1&mime=video%2Fmp4&ratebypass=yes&dur=496.326&lmt=1551026675753045&mt=1585490611&fvip=3&c=WEB&txp=2216222&sparams=expire%2Cei%2Cip%2Cid%2Citag%2Csource%2Crequiressl%2Cvprv%2Cmime%2Cratebypass%2Cdur%2Clmt&sig=AJpPlLswRQIgbInujPjWqIGJRy4w7oqGtq3qLwg6-TK6Z0NedMcKBVICIQD3hZrhIxHw3E8WRnYawGjEI6yDmRn57l23GxWnFqz8rQ%3D%3D&lsparams=mh%2Cmm%2Cmn%2Cms%2Cmv%2Cmvi%2Cpl%2Cinitcwndbps&lsig=ALrAebAwRAIgGfJDcBaMxuyeR_vwc2KtOWPy1RjDUdOmswLFhNuNxk8CIE-dyGYafTqbG2ynlsM1BIuVR7rHrVn3RbQ0FM2W62QL&title=Word2Vec+with+Gensim+-+Python\n",
      " Downloading video=7\n",
      "\n",
      "\n",
      "\n",
      "Downloading of Video7 is complete\n",
      " \n",
      "\n",
      "Finding the url of Video=8.....\n",
      "\n",
      "video title=Deep Learning Chatbot using Keras and Python - Part I (Pre-processing text for inputs into LSTM)\n",
      "https://r2---sn-a5meknsy.googlevideo.com/videoplayback?expire=1585512324&ei=JKuAXuPiIuODsfIP_IWe-A0&ip=199.167.135.3&id=o-AHhRUpQ0NoFgHfHZpby67Zm3uAfNbR290MmnYKLwGost&itag=22&source=youtube&requiressl=yes&mh=23&mm=31%2C29&mn=sn-a5meknsy%2Csn-a5mlrn76&ms=au%2Crdu&mv=u&mvi=1&pl=22&vprv=1&mime=video%2Fmp4&ratebypass=yes&dur=383.129&lmt=1494218336535789&mt=1585490568&fvip=6&c=WEB&sparams=expire%2Cei%2Cip%2Cid%2Citag%2Csource%2Crequiressl%2Cvprv%2Cmime%2Cratebypass%2Cdur%2Clmt&sig=AJpPlLswRAIgRJOtSHd4tn9k-z9l3sjVFeO8zgfWgi91qnoL5H_uc6ICICAJthbcJRfkD-JM1kUuNAjxJC2bLAZldrj-lIJo-P8r&lsparams=mh%2Cmm%2Cmn%2Cms%2Cmv%2Cmvi%2Cpl&lsig=ALrAebAwRQIhAKEhj1s1DEU0m5b8QFVfyl9DnKCKYc9J6cTIDxkOlErgAiAqeQgKkCCEOfNjphFxwVgvbAqW3dmRutCetrO90snrsg%3D%3D&title=Deep+Learning+Chatbot+using+Keras+and+Python+-+Part+I+(Pre-processing+text+for+inputs+into+LSTM)\n",
      " Downloading video=8\n",
      "\n",
      "\n",
      "\n"
     ]
    },
    {
     "name": "stdout",
     "output_type": "stream",
     "text": [
      "Downloading of Video8 is complete\n",
      " \n",
      "\n",
      "Finding the url of Video=9.....\n",
      "\n",
      "video title=Deep Learning Chatbot using Keras and Python - Part 2 (Text/word2vec inputs into LSTM)\n",
      "https://r5---sn-a5mlrn7d.googlevideo.com/videoplayback?expire=1585512350&ei=PquAXomXBIWakwbGo4m4Cg&ip=148.163.123.12&id=o-AEoSsyyZc0GIyIh8exdmN7fkQStAD6ZwJ6HyiUeGiYVU&itag=18&source=youtube&requiressl=yes&mh=uX&mm=31%2C29&mn=sn-a5mlrn7d%2Csn-a5meknsy&ms=au%2Crdu&mv=m&mvi=4&pl=20&initcwndbps=2026250&vprv=1&mime=video%2Fmp4&gir=yes&clen=17662471&ratebypass=yes&dur=485.854&lmt=1497109518218315&mt=1585490668&fvip=5&fexp=23882514&c=WEB&sparams=expire%2Cei%2Cip%2Cid%2Citag%2Csource%2Crequiressl%2Cvprv%2Cmime%2Cgir%2Cclen%2Cratebypass%2Cdur%2Clmt&sig=AJpPlLswRAIgSmOkb0VH0xpui387OW3bWwHV5F3n0AVjWZYYzhkbO7MCIDMKGojowPNZq7l_KboiTbOw9ohj1I6EVMQWSZUWjtEF&lsparams=mh%2Cmm%2Cmn%2Cms%2Cmv%2Cmvi%2Cpl%2Cinitcwndbps&lsig=ALrAebAwRQIhAJgUCZ5WQR0hz-ZUmNCr7NZZSIWHOm6aBExPMdhror8KAiBTCw7UPj3EK2iGmZGA2iuqMMorWLRFJjKFcOmJsbFLew%3D%3D&title=Deep+Learning+Chatbot+using+Keras+and+Python+-+Part+2+(Text/word2vec+inputs+into+LSTM)\n",
      " Downloading video=9\n",
      "\n",
      "\n",
      "\n",
      "Downloading of Video9 is complete\n",
      " \n",
      "\n",
      "Finding the url of Video=10.....\n",
      "\n",
      "video title=Activation Functions in Neural Networks (Sigmoid, ReLU, tanh, softmax)\n",
      "https://r2---sn-a5meknzl.googlevideo.com/videoplayback?expire=1585512367&ei=T6uAXoWcC8PDkgb954ywCA&ip=148.163.123.12&id=o-AIJkljTXxQSJyzBrn8r6-7WkOZDaVcYmZDG5RtwPfvMf&itag=22&source=youtube&requiressl=yes&mh=po&mm=31%2C26&mn=sn-a5meknzl%2Csn-n4v7snee&ms=au%2Conr&mv=m&mvi=1&pl=20&initcwndbps=1972500&vprv=1&mime=video%2Fmp4&ratebypass=yes&dur=275.504&lmt=1492745572474764&mt=1585490668&fvip=2&c=WEB&sparams=expire%2Cei%2Cip%2Cid%2Citag%2Csource%2Crequiressl%2Cvprv%2Cmime%2Cratebypass%2Cdur%2Clmt&sig=AJpPlLswRQIhAJu8PShzznYMTuEmeuew7kae_-A879ZkpWuFVxXoe9d4AiADIUmkwnzxRnuUB-LwqNrNqFk5_HWW25S_7FBmeU86OQ%3D%3D&lsparams=mh%2Cmm%2Cmn%2Cms%2Cmv%2Cmvi%2Cpl%2Cinitcwndbps&lsig=ALrAebAwRQIhAKheSrjR-mEIgvqkIPOqabUn2FjZZXyTAvbUFQ-kHSvjAiBSnnSegtQrLsMNjeuV51p0SKUFlGxcDBM7jj7IFduhiA%3D%3D&title=Activation+Functions+in+Neural+Networks+(Sigmoid,+ReLU,+tanh,+softmax)\n",
      " Downloading video=10\n",
      "\n",
      "\n",
      "\n",
      "Downloading of Video10 is complete\n",
      " \n",
      "All videos are downloaded\n"
     ]
    }
   ],
   "source": [
    "#now we have all the list of the url that we have to download\n",
    "#this is the downloader api in using this we will download the video \n",
    "downloader_api=\"http://www.youtube-video-downloader.xyz/download?video=\" \n",
    "def find_download_url(request_video_page):\n",
    "    soup=bs4.BeautifulSoup(request_video_page.text,\"html.parser\")\n",
    "    for each_tr_tag in soup.find_all('a'):     \n",
    "        video_link=each_tr_tag.get('href')\n",
    "        if str(video_link).find('r')==8:\n",
    "            return str(video_link)\n",
    "        \n",
    "        \n",
    "video_counter=1\n",
    "\n",
    "for each_url in all_video_url:\n",
    "    request_video_page=requests.get(downloader_api+each_url)\n",
    "    print(f\"\\nFinding the url of Video={video_counter}.....\\n\")\n",
    "    mp4_link=find_download_url(request_video_page)\n",
    "    video_title=mp4_link[mp4_link.find('title'):]\n",
    "    video_title=video_title[6:].replace(\"+\",\" \")\n",
    "    \n",
    "    print(\"video title=\"+video_title)\n",
    "    print(f\"{mp4_link}\")\n",
    "    \n",
    "    try:\n",
    "        print(\" Downloading video=\"+str(video_counter)+\"\\n\")\n",
    "        print(\"\\n\")\n",
    "        \n",
    "        #path where u want to save the videos\n",
    "        #here enter your path\n",
    "        full_path=\"videos/deep_learning/\"+f\"video{video_counter}\"+\".mp4\"\n",
    "        downloading=urllib.request.urlretrieve(str(mp4_link)[:mp4_link.find('&title')+1],full_path)\n",
    "        print(f\"Downloading of Video{video_counter} is complete\\n \")\n",
    "    except Exception as e:\n",
    "        print(e)\n",
    "        input(\"press anything to proceed\")\n",
    "        print(f\"Unable to Download video={video_counter}\")\n",
    "    \n",
    "    video_counter+=1\n",
    "else:\n",
    "    print(\"All videos are downloaded\")\n",
    "    \n",
    "    "
   ]
  }
 ],
 "metadata": {
  "kernelspec": {
   "display_name": "Python 3",
   "language": "python",
   "name": "python3"
  },
  "language_info": {
   "codemirror_mode": {
    "name": "ipython",
    "version": 3
   },
   "file_extension": ".py",
   "mimetype": "text/x-python",
   "name": "python",
   "nbconvert_exporter": "python",
   "pygments_lexer": "ipython3",
   "version": "3.7.6"
  }
 },
 "nbformat": 4,
 "nbformat_minor": 4
}
